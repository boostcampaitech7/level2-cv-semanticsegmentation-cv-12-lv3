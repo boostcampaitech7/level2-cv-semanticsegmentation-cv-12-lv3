{
 "cells": [
  {
   "cell_type": "code",
   "execution_count": null,
   "metadata": {},
   "outputs": [],
   "source": [
    "import cv2\n",
    "import json\n",
    "import random\n",
    "import numpy as np\n",
    "import matplotlib.pyplot as plt\n",
    "from PIL import Image, ImageDraw"
   ]
  },
  {
   "cell_type": "code",
   "execution_count": 60,
   "metadata": {},
   "outputs": [],
   "source": [
    "CLASS = [\n",
    "    'finger-1', 'finger-2', 'finger-3', 'finger-4', 'finger-5',\n",
    "    'finger-6', 'finger-7', 'finger-8', 'finger-9', 'finger-10',\n",
    "    'finger-11', 'finger-12', 'finger-13', 'finger-14', 'finger-15',\n",
    "    'finger-16', 'finger-17', 'finger-18', 'finger-19', 'Trapezium',\n",
    "    'Trapezoid', 'Capitate', 'Hamate', 'Scaphoid', 'Lunate',\n",
    "    'Triquetrum', 'Pisiform', 'Radius', 'Ulna',\n",
    "]\n",
    "CLASS2IDX = {v : i+1 for i,v in enumerate(CLASS) }"
   ]
  },
  {
   "cell_type": "markdown",
   "metadata": {},
   "source": [
    "## Masking 처리된 이미지 시각화"
   ]
  },
  {
   "cell_type": "code",
   "execution_count": null,
   "metadata": {},
   "outputs": [],
   "source": [
    "def visualize_specific_classes(image_path, label_path, target_classes=[i for i in range(1,20)]):\n",
    "    # Load the original image\n",
    "    image = cv2.imread(image_path)\n",
    "    image = image / 255.0\n",
    "    image = image.astype(\"float32\")\n",
    "    original_image = image.copy()  # Copy for visualization\n",
    "\n",
    "    # Load the label file\n",
    "    with open(label_path, \"r\") as f:\n",
    "        annotations = json.load(f)[\"annotations\"]\n",
    "\n",
    "    # Create an empty mask for the specific classes\n",
    "    mask = np.zeros((image.shape[0], image.shape[1]), dtype=np.uint8)\n",
    "\n",
    "    # Iterate over annotations and create a mask for the target classes\n",
    "    for ann in annotations:\n",
    "        target_c = ann[\"label\"]\n",
    "        target_c = CLASS2IDX[target_c]  # Map label to index if necessary\n",
    "\n",
    "        # Only include the specified target classes\n",
    "        if target_c in target_classes:\n",
    "            points = np.array(ann[\"points\"], np.int32)\n",
    "\n",
    "            # Create a polygon mask for the specific class\n",
    "            mask_img = Image.new('L', (image.shape[1], image.shape[0]), 0)\n",
    "            ImageDraw.Draw(mask_img).polygon([tuple(point) for point in points], outline=1, fill=1)\n",
    "            class_mask = np.array(mask_img, dtype=np.uint8)\n",
    "\n",
    "            # Combine with the overall mask\n",
    "            mask = np.maximum(mask, class_mask)\n",
    "\n",
    "    # Apply the mask to the original image for visualization\n",
    "    masked_image = original_image.copy()\n",
    "    masked_image[mask == 0] = 0  # Set the background to black\n",
    "\n",
    "    # Visualize the original and masked images side by side\n",
    "    plt.figure(figsize=(12, 6))\n",
    "    plt.subplot(1, 2, 1)\n",
    "    plt.imshow(original_image[..., ::-1])  # Convert BGR to RGB\n",
    "    plt.title(\"Original Image\")\n",
    "    plt.axis(\"off\")\n",
    "\n",
    "    plt.subplot(1, 2, 2)\n",
    "    plt.imshow(masked_image[..., ::-1])  # Convert BGR to RGB\n",
    "    plt.title(\"Masked Image (Specific Classes)\")\n",
    "    plt.axis(\"off\")\n",
    "\n",
    "    plt.show()"
   ]
  },
  {
   "cell_type": "code",
   "execution_count": null,
   "metadata": {},
   "outputs": [],
   "source": [
    "# Example usage\n",
    "image_path = \"/data/ephemeral/home/data/train/DCM/ID001/image1661130828152_R.png\"\n",
    "label_path = \"/data/ephemeral/home/data/train/outputs_json/ID001/image1661130828152_R.json\"\n",
    "visualize_specific_classes(image_path, label_path)"
   ]
  }
 ],
 "metadata": {
  "kernelspec": {
   "display_name": "base",
   "language": "python",
   "name": "python3"
  },
  "language_info": {
   "codemirror_mode": {
    "name": "ipython",
    "version": 3
   },
   "file_extension": ".py",
   "mimetype": "text/x-python",
   "name": "python",
   "nbconvert_exporter": "python",
   "pygments_lexer": "ipython3",
   "version": "3.10.13"
  }
 },
 "nbformat": 4,
 "nbformat_minor": 2
}
