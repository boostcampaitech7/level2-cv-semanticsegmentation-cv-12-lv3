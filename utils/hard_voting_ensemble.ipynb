{
 "cells": [
  {
   "cell_type": "code",
   "execution_count": null,
   "metadata": {},
   "outputs": [],
   "source": [
    "import os\n",
    "import numpy as np\n",
    "import pandas as pd\n",
    "from tqdm import tqdm"
   ]
  },
  {
   "cell_type": "code",
   "execution_count": null,
   "metadata": {},
   "outputs": [],
   "source": [
    "def csv_ensemble(csv_paths, save_dir):  \n",
    "    def decode_rle_to_mask(rle, height, width):\n",
    "        # RLE로 인코딩된 결과를 mask map으로 복원합니다.\n",
    "        s = rle.split()\n",
    "        starts, lengths = [np.asarray(x, dtype=int) for x in (s[0:][::2], s[1:][::2])]\n",
    "        starts -= 1\n",
    "        ends = starts + lengths\n",
    "        img = np.zeros(height * width, dtype=np.uint8)\n",
    "        \n",
    "        for lo, hi in zip(starts, ends):\n",
    "            img[lo:hi] = 1\n",
    "        \n",
    "        return img.reshape(height, width)\n",
    "\n",
    "    def encode_mask_to_rle(mask):\n",
    "        # mask map으로 나오는 인퍼런스 결과를 RLE로 인코딩 합니다.\n",
    "\n",
    "        pixels = mask.flatten()\n",
    "        pixels = np.concatenate([[0], pixels, [0]])\n",
    "        runs = np.where(pixels[1:] != pixels[:-1])[0] + 1\n",
    "        runs[1::2] -= runs[::2]\n",
    "        return ' '.join(str(x) for x in runs)\n",
    "\n",
    "    csv_column = 8352\n",
    "\n",
    "    csv_data = []\n",
    "    for path in csv_paths:\n",
    "        data = pd.read_csv(path)\n",
    "        csv_data.append(data)\n",
    "\n",
    "    file_num = len(csv_data)\n",
    "    filename_and_class = []\n",
    "    rles = []\n",
    "\n",
    "    for index in tqdm(range(csv_column)):    \n",
    "        model_rles = []\n",
    "        for data in csv_data:\n",
    "            if(type(data.iloc[index]['rle']) == float):\n",
    "                model_rles.append(np.zeros((2048,2048)))\n",
    "                continue\n",
    "            model_rles.append(decode_rle_to_mask(data.iloc[index]['rle'],2048,2048))\n",
    "        \n",
    "        image = np.zeros((2048,2048))\n",
    "\n",
    "        for model in model_rles:\n",
    "            image += model\n",
    "        \n",
    "        image[image <= (file_num // 2)] = 0\n",
    "        image[image > (file_num // 2)] = 1\n",
    "\n",
    "        result_image = image\n",
    "\n",
    "        # 앙상블 결과 rle로 인코딩\n",
    "        rles.append(encode_mask_to_rle(result_image))\n",
    "        filename_and_class.append(f\"{csv_data[0].iloc[index]['class']}_{csv_data[0].iloc[index]['image_name']}\")\n",
    "\n",
    "    # to csv\n",
    "    classes, filename = zip(*[x.split(\"_\") for x in filename_and_class])\n",
    "    image_name = [os.path.basename(f) for f in filename]\n",
    "\n",
    "    df = pd.DataFrame({\n",
    "        \"image_name\": image_name,\n",
    "        \"class\": classes,\n",
    "        \"rle\": rles,\n",
    "    })\n",
    "\n",
    "    df.to_csv(save_dir, index=False)"
   ]
  },
  {
   "cell_type": "code",
   "execution_count": null,
   "metadata": {},
   "outputs": [],
   "source": [
    "csv_path1 = 'CSV 파일 경로 1'\n",
    "csv_path2 = 'CSV 파일 경로 2'\n",
    "csv_path3 = 'CSV 파일 경로 3'\n",
    "\n",
    "csv_paths = [csv_path1, csv_path2, csv_path3]\n",
    "save_dir = './ensemble.csv'"
   ]
  },
  {
   "cell_type": "code",
   "execution_count": null,
   "metadata": {},
   "outputs": [],
   "source": [
    "csv_ensemble(csv_paths, save_dir)"
   ]
  }
 ],
 "metadata": {
  "kernelspec": {
   "display_name": "base",
   "language": "python",
   "name": "python3"
  },
  "language_info": {
   "codemirror_mode": {
    "name": "ipython",
    "version": 3
   },
   "file_extension": ".py",
   "mimetype": "text/x-python",
   "name": "python",
   "nbconvert_exporter": "python",
   "pygments_lexer": "ipython3",
   "version": "3.10.13"
  },
  "orig_nbformat": 4
 },
 "nbformat": 4,
 "nbformat_minor": 2
}
